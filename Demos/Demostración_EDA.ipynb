{
  "nbformat": 4,
  "nbformat_minor": 0,
  "metadata": {
    "colab": {
      "name": "Demostración EDA.ipynb",
      "version": "0.3.2",
      "provenance": [],
      "collapsed_sections": []
    },
    "kernelspec": {
      "display_name": "Python 3",
      "language": "python",
      "name": "python3"
    }
  },
  "cells": [
    {
      "cell_type": "markdown",
      "metadata": {
        "id": "I3VZjsfOPOI5",
        "colab_type": "text"
      },
      "source": [
        "# Teoría sobre la infidelidad matrimonial\n",
        "http://www.statsmodels.org/stable/datasets/generated/fair.html\n",
        "  \n",
        "https://fairmodel.econ.yale.edu/rayfair/pdf/1978a200.pdf "
      ]
    },
    {
      "cell_type": "code",
      "metadata": {
        "id": "uRxqGtKpEtSP",
        "colab_type": "code",
        "colab": {}
      },
      "source": [
        "#Importamos los modulos y librerias que vamos a necesitar\n",
        "!pip install statsmodels\n",
        "\n",
        "import numpy as np\n",
        "import pandas as pd\n",
        "import matplotlib.pyplot as plt \n",
        "import statsmodels.api as sm\n",
        "import seaborn as sns\n",
        "\n",
        "from patsy import dmatrices\n",
        "from scipy import stats\n",
        "from sklearn import metrics\n",
        "from sklearn.linear_model import LogisticRegression\n",
        "from sklearn.model_selection import train_test_split\n",
        "\n",
        "#dta.columns = ['rate_marriage', 'age', 'yrs_married', 'children', 'religious', 'educ', 'occupation', 'occupation_husb','affairs']"
      ],
      "execution_count": 0,
      "outputs": []
    },
    {
      "cell_type": "code",
      "metadata": {
        "id": "56BZtj2PEtSV",
        "colab_type": "code",
        "colab": {}
      },
      "source": [
        "#Cargamos los datos\n",
        "dta = sm.datasets.fair.load_pandas().data\n",
        "dta.head(10)"
      ],
      "execution_count": 0,
      "outputs": []
    },
    {
      "cell_type": "code",
      "metadata": {
        "id": "yyjZh6kUEtSc",
        "colab_type": "code",
        "colab": {}
      },
      "source": [
        "#Informacion sobre el dataset: descripcion general, origen, \n",
        "#definicion de variables,tipo de variables\n",
        "\n",
        "print(sm.datasets.fair.NOTE)\n",
        "print(sm.datasets.fair.SOURCE)\n",
        "print(sm.datasets.fair.DESCRLONG)\n",
        "\n",
        "dta.info()"
      ],
      "execution_count": 0,
      "outputs": []
    },
    {
      "cell_type": "code",
      "metadata": {
        "id": "YWPkx8MOEtSi",
        "colab_type": "code",
        "colab": {}
      },
      "source": [
        "#Comprobamos que no falten datos (Resultado booleano: true=falta dato, false=dato)\n",
        "#Tambien se puede visualizar si faltan datos con los mapas de calor de seaborn.\n",
        "#En este caso, no hace falta.\n",
        "\n",
        "dta.isnull().head(10)"
      ],
      "execution_count": 0,
      "outputs": []
    },
    {
      "cell_type": "code",
      "metadata": {
        "id": "nQccd6koG9mh",
        "colab_type": "code",
        "colab": {}
      },
      "source": [
        "sns.set() \n",
        "fig, ax = plt.subplots(1,2) \n",
        "sns.heatmap(dta, vmin=-0.231049, vmax=0, annot=True, fmt='f', annot_kws={\"size\": 15}, ax=ax[0]) \n",
        "sns.heatmap(dta, vmin=-0.231049, vmax=0, annot=True, fmt='f', annot_kws={\"size\": 10}, ax=ax[1]); "
      ],
      "execution_count": 0,
      "outputs": []
    },
    {
      "cell_type": "code",
      "metadata": {
        "id": "PiSFG0iLHTFs",
        "colab_type": "code",
        "colab": {}
      },
      "source": [
        "sns.set() \n",
        "fig, ax = plt.subplots(1,2) \n",
        "sns.heatmap(dta,  annot=True, fmt='f') \n",
        "sns.heatmap(dta,  annot=True, fmt='f'); "
      ],
      "execution_count": 0,
      "outputs": []
    },
    {
      "cell_type": "markdown",
      "metadata": {
        "id": "gtoN6CpdOVL2",
        "colab_type": "text"
      },
      "source": [
        "El signo del índice de correlación también nos da información.  Si el índice de correlación entre dos variables es positivo, significa que, si una de ellas aumenta, la otra también lo hace. Por el contrario,  cuando el signo es negativo, si una variable aumenta, la otra, disminuye.  Por ejemplo, para affairs y rate_marriage es negativo. Esto indica que las personas que valoran más su matrimonio (rate_marriage creciente), tienen menos aventuras extramaritales (affairs decreciente)."
      ]
    },
    {
      "cell_type": "code",
      "metadata": {
        "id": "wTidytSqEtSp",
        "colab_type": "code",
        "colab": {}
      },
      "source": [
        "# Veamos ahora la matriz de correlacion. \n",
        "# Deberiamos eliminar las variables altamente correlacionadas >0,90\n",
        "# Edad, años matrimonio-- logica\n",
        "# Correlacion positiva--religious/rate marriage,age/yrs_marriage\n",
        "# Correlacion negativa: affairs/children, religious\n",
        "\n",
        "print(dta.corr())\n"
      ],
      "execution_count": 0,
      "outputs": []
    },
    {
      "cell_type": "code",
      "metadata": {
        "id": "vt25NvE3FWiT",
        "colab_type": "code",
        "colab": {}
      },
      "source": [
        "\n",
        "#Edad, años matrimonio-- logicamente no son independientes, para eliminarlos habria que hacer:\n",
        "#dta.drop(['age','yrs_married'],axis=1,inplace=True)\n",
        "#dta.head()"
      ],
      "execution_count": 0,
      "outputs": []
    },
    {
      "cell_type": "markdown",
      "metadata": {
        "id": "gmpNOMYfOcLv",
        "colab_type": "text"
      },
      "source": [
        "El histograma sobre la influencia del nivel educativo también arroja resultados interesantes. El menor número de infidelidades se produce en los niveles extremos: mujeres con nivel básico de educación o profesionales con una muy alta cualificación-"
      ]
    },
    {
      "cell_type": "code",
      "metadata": {
        "id": "sIvGqxZcEtSu",
        "colab_type": "code",
        "colab": {}
      },
      "source": [
        "#Para que muestre los graficos en el notebook añadimos:\n",
        "#%matplotlib inline\n",
        "\n",
        "# histograma sobre influencia del nivel educativo\n",
        "dta.educ.hist()\n",
        "plt.title('Influencia del Nivel Educativo')\n",
        "plt.xlabel('Nivel Academico')\n",
        "plt.ylabel('Frecuencia infidelidad')"
      ],
      "execution_count": 0,
      "outputs": []
    },
    {
      "cell_type": "markdown",
      "metadata": {
        "id": "ApBjqkz5OhMm",
        "colab_type": "text"
      },
      "source": [
        "También podemos observar la influencia de los años de matrimonio:"
      ]
    },
    {
      "cell_type": "code",
      "metadata": {
        "id": "nC0__e9uFo7F",
        "colab_type": "code",
        "colab": {}
      },
      "source": [
        "#Para que muestre los graficos en el notebook añadimos:\n",
        "#%matplotlib inline\n",
        "\n",
        "# histograma sobre influencia de los años de matrimonio\n",
        "dta.yrs_married.hist()\n",
        "plt.title('Histograma Años de Matrimonio')\n",
        "plt.xlabel('Años de Matrimonio')\n",
        "plt.ylabel('Frecuencia infidelidad')"
      ],
      "execution_count": 0,
      "outputs": []
    },
    {
      "cell_type": "code",
      "metadata": {
        "id": "A_yx_08Mi0XC",
        "colab_type": "code",
        "colab": {}
      },
      "source": [
        "#Creamos una nueva variable binaria \"infidelidad\" para tratarlo como un problema de clasificación 0=fiel, 1=infiel\n",
        "#Mostramos los primeros....infieles\n",
        "dta['infidelidad']=(dta.affairs>0).astype(int)\n",
        "print(dta.head(10))\n",
        "dta.shape"
      ],
      "execution_count": 0,
      "outputs": []
    },
    {
      "cell_type": "markdown",
      "metadata": {
        "id": "1nvrTc1QvO1H",
        "colab_type": "text"
      },
      "source": [
        "rate_marriage\tage\tyrs_married\tchildren\treligious\teduc\toccupation\toccupation_husb\taffairs"
      ]
    },
    {
      "cell_type": "code",
      "metadata": {
        "id": "zVzBrY5svB3c",
        "colab_type": "code",
        "colab": {}
      },
      "source": [
        "feature_names = ['rate_marriage', 'age', 'yrs_married', 'children','religious','educ','occupation','occupation_husb']\n",
        "X = dta[feature_names]\n",
        "y = dta['affairs']"
      ],
      "execution_count": 0,
      "outputs": []
    },
    {
      "cell_type": "code",
      "metadata": {
        "id": "NbnpSlQiu4Od",
        "colab_type": "code",
        "colab": {}
      },
      "source": [
        "from sklearn.model_selection import train_test_split\n",
        "X_train, X_test, y_train, y_test = train_test_split(X, y, random_state=0)\n",
        "from sklearn.preprocessing import MinMaxScaler\n",
        "scaler = MinMaxScaler()\n",
        "X_train = scaler.fit_transform(X_train)\n",
        "X_test = scaler.transform(X_test)"
      ],
      "execution_count": 0,
      "outputs": []
    },
    {
      "cell_type": "code",
      "metadata": {
        "id": "AdzREBzuvv0B",
        "colab_type": "code",
        "colab": {}
      },
      "source": [
        "from sklearn.tree import DecisionTreeClassifier\n",
        "clf = DecisionTreeClassifier().fit(X_train, y_train)\n",
        "print('Accuracy of Decision Tree classifier on training set: {:.2f}'\n",
        "     .format(clf.score(X_train, y_train)))\n",
        "print('Accuracy of Decision Tree classifier on test set: {:.2f}'\n",
        "     .format(clf.score(X_test, y_test)))"
      ],
      "execution_count": 0,
      "outputs": []
    }
  ]
}
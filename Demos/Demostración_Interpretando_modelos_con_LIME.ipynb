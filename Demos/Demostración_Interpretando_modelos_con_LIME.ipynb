{
  "nbformat": 4,
  "nbformat_minor": 0,
  "metadata": {
    "colab": {
      "name": "Demostración Interpretando modelos con LIME.ipynb",
      "version": "0.3.2",
      "provenance": [],
      "collapsed_sections": [],
      "toc_visible": true
    },
    "kernelspec": {
      "name": "python3",
      "display_name": "Python 3"
    }
  },
  "cells": [
    {
      "cell_type": "markdown",
      "metadata": {
        "id": "70Gc7OMcK91c",
        "colab_type": "text"
      },
      "source": [
        "# LIME"
      ]
    },
    {
      "cell_type": "code",
      "metadata": {
        "id": "fA8kHCZAI56I",
        "colab_type": "code",
        "colab": {}
      },
      "source": [
        "!pip install lime"
      ],
      "execution_count": 0,
      "outputs": []
    },
    {
      "cell_type": "code",
      "metadata": {
        "id": "eYhP6-MDGGwe",
        "colab_type": "code",
        "colab": {}
      },
      "source": [
        "\n",
        "import lime\n",
        "import sklearn\n",
        "import numpy as np\n",
        "import sklearn\n",
        "import sklearn.ensemble\n",
        "import sklearn.metrics\n",
        "from __future__ import print_function"
      ],
      "execution_count": 0,
      "outputs": []
    },
    {
      "cell_type": "code",
      "metadata": {
        "id": "psl_ZvWrGyDm",
        "colab_type": "code",
        "colab": {}
      },
      "source": [
        "from sklearn.datasets import fetch_20newsgroups\n",
        "categories = ['alt.atheism', 'soc.religion.christian']\n",
        "newsgroups_train = fetch_20newsgroups(subset='train', categories=categories)\n",
        "newsgroups_test = fetch_20newsgroups(subset='test', categories=categories)\n",
        "class_names = ['atheism', 'christian']"
      ],
      "execution_count": 0,
      "outputs": []
    },
    {
      "cell_type": "code",
      "metadata": {
        "id": "ow7mNF8fG26h",
        "colab_type": "code",
        "colab": {}
      },
      "source": [
        "vectorizer = sklearn.feature_extraction.text.TfidfVectorizer(lowercase=False)\n",
        "train_vectors = vectorizer.fit_transform(newsgroups_train.data)\n",
        "test_vectors = vectorizer.transform(newsgroups_test.data)"
      ],
      "execution_count": 0,
      "outputs": []
    },
    {
      "cell_type": "code",
      "metadata": {
        "id": "rwi9TTySG3zm",
        "colab_type": "code",
        "colab": {}
      },
      "source": [
        "rf = sklearn.ensemble.RandomForestClassifier(n_estimators=500)\n",
        "rf.fit(train_vectors, newsgroups_train.target)"
      ],
      "execution_count": 0,
      "outputs": []
    },
    {
      "cell_type": "code",
      "metadata": {
        "id": "Dj1Ld7H5G79W",
        "colab_type": "code",
        "colab": {}
      },
      "source": [
        "pred = rf.predict(test_vectors)\n",
        "sklearn.metrics.f1_score(newsgroups_test.target, pred, average='binary')"
      ],
      "execution_count": 0,
      "outputs": []
    },
    {
      "cell_type": "code",
      "metadata": {
        "id": "arvwXn7OG-Ko",
        "colab_type": "code",
        "colab": {}
      },
      "source": [
        "\n",
        "from lime import lime_text\n",
        "from sklearn.pipeline import make_pipeline\n",
        "c = make_pipeline(vectorizer, rf)"
      ],
      "execution_count": 0,
      "outputs": []
    },
    {
      "cell_type": "code",
      "metadata": {
        "id": "dI94N1IEHAhL",
        "colab_type": "code",
        "colab": {}
      },
      "source": [
        "print(c.predict_proba([newsgroups_test.data[0]]))"
      ],
      "execution_count": 0,
      "outputs": []
    },
    {
      "cell_type": "code",
      "metadata": {
        "id": "e4OyR0OEHDBh",
        "colab_type": "code",
        "colab": {}
      },
      "source": [
        "\n",
        "from lime.lime_text import LimeTextExplainer\n",
        "explainer = LimeTextExplainer(class_names=class_names)"
      ],
      "execution_count": 0,
      "outputs": []
    },
    {
      "cell_type": "code",
      "metadata": {
        "id": "wYxVFodJHFBC",
        "colab_type": "code",
        "colab": {}
      },
      "source": [
        "idx = 83\n",
        "exp = explainer.explain_instance(newsgroups_test.data[idx], c.predict_proba, num_features=6)\n",
        "print('Document id: %d' % idx)\n",
        "print('Probability(christian) =', c.predict_proba([newsgroups_test.data[idx]])[0,1])\n",
        "print('True class: %s' % class_names[newsgroups_test.target[idx]])"
      ],
      "execution_count": 0,
      "outputs": []
    },
    {
      "cell_type": "code",
      "metadata": {
        "id": "aPLdv5_THIOr",
        "colab_type": "code",
        "colab": {}
      },
      "source": [
        "exp.as_list()"
      ],
      "execution_count": 0,
      "outputs": []
    },
    {
      "cell_type": "code",
      "metadata": {
        "id": "MIZmZYuhHJdu",
        "colab_type": "code",
        "colab": {}
      },
      "source": [
        "print('Original prediction:', rf.predict_proba(test_vectors[idx])[0,1])\n",
        "tmp = test_vectors[idx].copy()\n",
        "tmp[0,vectorizer.vocabulary_['Posting']] = 0\n",
        "tmp[0,vectorizer.vocabulary_['Host']] = 0\n",
        "print('Prediction removing some features:', rf.predict_proba(tmp)[0,1])\n",
        "print('Difference:', rf.predict_proba(tmp)[0,1] - rf.predict_proba(test_vectors[idx])[0,1])"
      ],
      "execution_count": 0,
      "outputs": []
    },
    {
      "cell_type": "code",
      "metadata": {
        "id": "0sNCmH4LHNoe",
        "colab_type": "code",
        "colab": {}
      },
      "source": [
        "%matplotlib inline\n",
        "fig = exp.as_pyplot_figure()"
      ],
      "execution_count": 0,
      "outputs": []
    },
    {
      "cell_type": "code",
      "metadata": {
        "id": "r7fo5Or0HPkh",
        "colab_type": "code",
        "colab": {}
      },
      "source": [
        "exp.show_in_notebook(text=False)"
      ],
      "execution_count": 0,
      "outputs": []
    },
    {
      "cell_type": "code",
      "metadata": {
        "id": "PuiTF20iHTC3",
        "colab_type": "code",
        "colab": {}
      },
      "source": [
        "\n",
        "exp.save_to_file('/tmp/oi.html')"
      ],
      "execution_count": 0,
      "outputs": []
    },
    {
      "cell_type": "code",
      "metadata": {
        "id": "zPnXr6iJHVeg",
        "colab_type": "code",
        "colab": {}
      },
      "source": [
        "exp.show_in_notebook(text=True)"
      ],
      "execution_count": 0,
      "outputs": []
    }
  ]
}
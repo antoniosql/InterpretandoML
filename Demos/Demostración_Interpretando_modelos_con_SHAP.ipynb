{
  "nbformat": 4,
  "nbformat_minor": 0,
  "metadata": {
    "colab": {
      "name": "Demostración Interpretando modelos con SHAP.ipynb",
      "version": "0.3.2",
      "provenance": [],
      "collapsed_sections": [],
      "toc_visible": true
    },
    "kernelspec": {
      "name": "python3",
      "display_name": "Python 3"
    }
  },
  "cells": [
    {
      "cell_type": "code",
      "metadata": {
        "id": "oFY9qYEnDufw",
        "colab_type": "code",
        "colab": {}
      },
      "source": [
        "!pip install shap\n"
      ],
      "execution_count": 0,
      "outputs": []
    },
    {
      "cell_type": "code",
      "metadata": {
        "id": "SN-jW6v5CwDC",
        "colab_type": "code",
        "colab": {}
      },
      "source": [
        "import pandas as pd\n",
        "import numpy as np\n",
        "import model_evaluation_utils as meu #es necesario tener el módulo model_evaluation_utils.py\n",
        "import matplotlib.pyplot as plt\n",
        "from collections import Counter\n",
        "import shap\n",
        "\n",
        "\n"
      ],
      "execution_count": 0,
      "outputs": []
    },
    {
      "cell_type": "code",
      "metadata": {
        "id": "Duw89YKADNaH",
        "colab_type": "code",
        "colab": {}
      },
      "source": [
        "import warnings\n",
        "warnings.filterwarnings('ignore')\n",
        "plt.style.use('fivethirtyeight')\n",
        "%matplotlib inline"
      ],
      "execution_count": 0,
      "outputs": []
    },
    {
      "cell_type": "code",
      "metadata": {
        "id": "MMblSzW2DNk4",
        "colab_type": "code",
        "colab": {}
      },
      "source": [
        "shap.initjs()"
      ],
      "execution_count": 0,
      "outputs": []
    },
    {
      "cell_type": "code",
      "metadata": {
        "id": "POhcU2e7Eg6H",
        "colab_type": "code",
        "colab": {}
      },
      "source": [
        "# Vamos a cargar un dataset muy conocido de información de censo americano, ya limpio que nos proporciona shap. La definición del dataset podéis encontrarla aquí https://archive.ics.uci.edu/ml/datasets/adult \n",
        "data, labels = shap.datasets.adult(display=True)\n",
        "labels = np.array([int(label) for label in labels])\n",
        "\n",
        "print(data.shape, labels.shape)\n",
        "data.head()"
      ],
      "execution_count": 0,
      "outputs": []
    },
    {
      "cell_type": "code",
      "metadata": {
        "id": "oTKO2g8_E51S",
        "colab_type": "code",
        "colab": {}
      },
      "source": [
        "#¿Está balanceado?\n",
        "Counter(labels)"
      ],
      "execution_count": 0,
      "outputs": []
    },
    {
      "cell_type": "code",
      "metadata": {
        "id": "-QSCnpzRFOYp",
        "colab_type": "code",
        "colab": {}
      },
      "source": [
        "#Ingeniería de Características básica convirtiendo valores de cadena en numéricos\n",
        "\n",
        "cat_cols = data.select_dtypes(['category']).columns\n",
        "data[cat_cols] = data[cat_cols].apply(lambda x: x.cat.codes)\n",
        "data.head()"
      ],
      "execution_count": 0,
      "outputs": []
    },
    {
      "cell_type": "code",
      "metadata": {
        "id": "Y2DZmSJoFhi1",
        "colab_type": "code",
        "colab": {}
      },
      "source": [
        "#Generamos nuestros datos de entrenamiento y test. Mantenemos dos conjuntos de datos, uno con los valores categóricos codificados, y otro con los valores originales, de forma que podamos entrenar con el codificado, manteniendo el original para poder interpretar después del modelo\n",
        "\n",
        "from sklearn.model_selection import train_test_split\n",
        "\n",
        "X_train, X_test, y_train, y_test = train_test_split(data, labels, test_size=0.3, random_state=42)\n",
        "print(X_train.shape, X_test.shape)\n",
        "X_train.head(3)"
      ],
      "execution_count": 0,
      "outputs": []
    },
    {
      "cell_type": "code",
      "metadata": {
        "id": "zLRHTFZvGDLk",
        "colab_type": "code",
        "colab": {}
      },
      "source": [
        "data_disp, labels_disp = shap.datasets.adult(display=True)\n",
        "X_train_disp, X_test_disp, y_train_disp, y_test_disp = train_test_split(data_disp, labels_disp, test_size=0.3, random_state=42)\n",
        "print(X_train_disp.shape, X_test_disp.shape)\n",
        "X_train_disp.head(3)"
      ],
      "execution_count": 0,
      "outputs": []
    },
    {
      "cell_type": "code",
      "metadata": {
        "id": "DVtjlGoRGKSO",
        "colab_type": "code",
        "colab": {}
      },
      "source": [
        "#Entrenamos el modelo\n",
        "%%time\n",
        "\n",
        "import xgboost as xgb\n",
        "xgc = xgb.XGBClassifier(n_estimators=500, max_depth=5, base_score=0.5,\n",
        "                        objective='binary:logistic', random_state=42)\n",
        "xgc.fit(X_train, y_train)"
      ],
      "execution_count": 0,
      "outputs": []
    },
    {
      "cell_type": "code",
      "metadata": {
        "id": "DleNwBEMGQgV",
        "colab_type": "code",
        "colab": {}
      },
      "source": [
        "#hacemos predicciones\n",
        "predictions = xgc.predict(X_test)\n",
        "predictions[:10]"
      ],
      "execution_count": 0,
      "outputs": []
    },
    {
      "cell_type": "markdown",
      "metadata": {
        "id": "SEnXXc_7eAr8",
        "colab_type": "text"
      },
      "source": [
        "# Interpretación de Modelos con SHAP"
      ]
    },
    {
      "cell_type": "code",
      "metadata": {
        "id": "tOZcY22EeDjZ",
        "colab_type": "code",
        "colab": {}
      },
      "source": [
        "#Vamos a utilizar el TreeExplainer incluido dentro de SHAP para XGBoost\n",
        "explainer = shap.TreeExplainer(xgc)\n",
        "shap_values = explainer.shap_values(X_test)\n",
        "print('Expected Value:', explainer.expected_value)\n",
        "pd.DataFrame(shap_values).head()"
      ],
      "execution_count": 0,
      "outputs": []
    },
    {
      "cell_type": "code",
      "metadata": {
        "id": "X_VcTKFdeJSb",
        "colab_type": "code",
        "colab": {}
      },
      "source": [
        "shap.initjs()\n",
        "shap.force_plot(explainer.expected_value, \n",
        "                shap_values[0,:], X_test_disp.iloc[0,:])"
      ],
      "execution_count": 0,
      "outputs": []
    },
    {
      "cell_type": "code",
      "metadata": {
        "id": "HvCkzLAeeUvL",
        "colab_type": "code",
        "colab": {}
      },
      "source": [
        "shap.initjs()\n",
        "shap.force_plot(explainer.expected_value, \n",
        "                shap_values[2,:], X_test_disp.iloc[2,:])"
      ],
      "execution_count": 0,
      "outputs": []
    },
    {
      "cell_type": "code",
      "metadata": {
        "id": "n00Qt0BoeXyo",
        "colab_type": "code",
        "colab": {}
      },
      "source": [
        "shap.initjs()\n",
        "shap.force_plot(explainer.expected_value, \n",
        "                shap_values[:1000,:], X_test_disp.iloc[:1000,:])"
      ],
      "execution_count": 0,
      "outputs": []
    },
    {
      "cell_type": "code",
      "metadata": {
        "id": "CN4DxUNcehNH",
        "colab_type": "code",
        "colab": {}
      },
      "source": [
        "#importancia de Características\n",
        "\n",
        "shap.summary_plot(shap_values, \n",
        "                  X_test, plot_type=\"bar\")\n"
      ],
      "execution_count": 0,
      "outputs": []
    },
    {
      "cell_type": "code",
      "metadata": {
        "id": "DY0CjlsfemVu",
        "colab_type": "code",
        "colab": {}
      },
      "source": [
        "\n",
        "shap.summary_plot(shap_values, X_test)"
      ],
      "execution_count": 0,
      "outputs": []
    },
    {
      "cell_type": "code",
      "metadata": {
        "id": "DFvGGCUaeqiZ",
        "colab_type": "code",
        "colab": {}
      },
      "source": [
        "shap.dependence_plot(ind='Age', interaction_index='Age',\n",
        "                     shap_values=shap_values, \n",
        "                     features=X_test,  \n",
        "                     display_features=X_test_disp)"
      ],
      "execution_count": 0,
      "outputs": []
    },
    {
      "cell_type": "code",
      "metadata": {
        "id": "g62QU8nbevFb",
        "colab_type": "code",
        "colab": {}
      },
      "source": [
        "\n",
        "shap.dependence_plot(ind='Education-Num', interaction_index='Education-Num',\n",
        "                     shap_values=shap_values, \n",
        "                     features=X_test,  \n",
        "                     display_features=X_test_disp)"
      ],
      "execution_count": 0,
      "outputs": []
    },
    {
      "cell_type": "code",
      "metadata": {
        "id": "W8in7nbteyLE",
        "colab_type": "code",
        "colab": {}
      },
      "source": [
        "\n",
        "shap.dependence_plot(ind='Relationship', interaction_index='Relationship',\n",
        "                     shap_values=shap_values, \n",
        "                     features=X_test,  \n",
        "                     display_features=X_test_disp)"
      ],
      "execution_count": 0,
      "outputs": []
    },
    {
      "cell_type": "code",
      "metadata": {
        "id": "2WD003mse03W",
        "colab_type": "code",
        "colab": {}
      },
      "source": [
        "\n",
        "shap.dependence_plot(ind='Capital Gain', interaction_index='Capital Gain',\n",
        "                     shap_values=shap_values, \n",
        "                     features=X_test,  \n",
        "                     display_features=X_test_disp)"
      ],
      "execution_count": 0,
      "outputs": []
    },
    {
      "cell_type": "code",
      "metadata": {
        "id": "-OT54PXxe2-K",
        "colab_type": "code",
        "colab": {}
      },
      "source": [
        "shap.dependence_plot(ind='Age', interaction_index='Capital Gain', \n",
        "                     shap_values=shap_values, features=X_test, \n",
        "                     display_features=X_test_disp)"
      ],
      "execution_count": 0,
      "outputs": []
    },
    {
      "cell_type": "code",
      "metadata": {
        "id": "yLIy0EMme5fs",
        "colab_type": "code",
        "colab": {}
      },
      "source": [
        "shap.dependence_plot(ind='Education-Num', interaction_index='Relationship', \n",
        "                     shap_values=shap_values, features=X_test, \n",
        "                     display_features=X_test_disp)"
      ],
      "execution_count": 0,
      "outputs": []
    },
    {
      "cell_type": "code",
      "metadata": {
        "id": "P0agqqdee7-U",
        "colab_type": "code",
        "colab": {}
      },
      "source": [
        "\n",
        "shap.dependence_plot(ind='Marital Status', interaction_index='Relationship', \n",
        "                     shap_values=shap_values, features=X_test, \n",
        "                     display_features=X_test_disp)"
      ],
      "execution_count": 0,
      "outputs": []
    },
    {
      "cell_type": "code",
      "metadata": {
        "id": "ID14qeXXe-NX",
        "colab_type": "code",
        "colab": {}
      },
      "source": [
        "\n",
        "shap.dependence_plot(ind='Age', interaction_index='Hours per week', \n",
        "                     shap_values=shap_values, features=X_test, \n",
        "                     display_features=X_test_disp)"
      ],
      "execution_count": 0,
      "outputs": []
    }
  ]
}